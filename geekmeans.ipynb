{
 "cells": [
  {
   "cell_type": "code",
   "execution_count": 1,
   "id": "f5ad60b2-be82-4184-97a5-031a36cc0eb7",
   "metadata": {},
   "outputs": [],
   "source": [
    "import pandas as pd\n",
    "import glob\n",
    "from countryboundingboxes import country_bounding_boxes\n",
    "\n",
    "import ee\n",
    "import geemap\n",
    "\n",
    "import geopandas as gpd\n",
    "\n",
    "import matplotlib.pyplot as plt"
   ]
  },
  {
   "cell_type": "markdown",
   "id": "fe588633-64e1-4e6e-be85-19a4da9e423d",
   "metadata": {},
   "source": [
    "## Selecting Bounding Box + Filtering Data"
   ]
  },
  {
   "cell_type": "code",
   "execution_count": 2,
   "id": "bb54b68a-eceb-4e06-992c-f8b689ba4c05",
   "metadata": {},
   "outputs": [
    {
     "data": {
      "text/html": [
       "<div>\n",
       "<style scoped>\n",
       "    .dataframe tbody tr th:only-of-type {\n",
       "        vertical-align: middle;\n",
       "    }\n",
       "\n",
       "    .dataframe tbody tr th {\n",
       "        vertical-align: top;\n",
       "    }\n",
       "\n",
       "    .dataframe thead th {\n",
       "        text-align: right;\n",
       "    }\n",
       "</style>\n",
       "<table border=\"1\" class=\"dataframe\">\n",
       "  <thead>\n",
       "    <tr style=\"text-align: right;\">\n",
       "      <th></th>\n",
       "      <th>lat</th>\n",
       "      <th>lon</th>\n",
       "      <th>landcover</th>\n",
       "    </tr>\n",
       "  </thead>\n",
       "  <tbody>\n",
       "    <tr>\n",
       "      <th>0</th>\n",
       "      <td>40.582904</td>\n",
       "      <td>-22.166310</td>\n",
       "      <td>ForestNaturalAreas</td>\n",
       "    </tr>\n",
       "    <tr>\n",
       "      <th>1</th>\n",
       "      <td>57.591202</td>\n",
       "      <td>-5.168274</td>\n",
       "      <td>AgriculturalArea</td>\n",
       "    </tr>\n",
       "    <tr>\n",
       "      <th>2</th>\n",
       "      <td>70.850927</td>\n",
       "      <td>-9.175052</td>\n",
       "      <td>ForestNaturalAreas</td>\n",
       "    </tr>\n",
       "    <tr>\n",
       "      <th>3</th>\n",
       "      <td>37.519676</td>\n",
       "      <td>32.485142</td>\n",
       "      <td>AgriculturalArea</td>\n",
       "    </tr>\n",
       "    <tr>\n",
       "      <th>4</th>\n",
       "      <td>50.582377</td>\n",
       "      <td>-7.032158</td>\n",
       "      <td>ArtificialSurfaces</td>\n",
       "    </tr>\n",
       "    <tr>\n",
       "      <th>...</th>\n",
       "      <td>...</td>\n",
       "      <td>...</td>\n",
       "      <td>...</td>\n",
       "    </tr>\n",
       "    <tr>\n",
       "      <th>4013</th>\n",
       "      <td>45.359292</td>\n",
       "      <td>19.185816</td>\n",
       "      <td>Water</td>\n",
       "    </tr>\n",
       "    <tr>\n",
       "      <th>4014</th>\n",
       "      <td>59.992077</td>\n",
       "      <td>16.333949</td>\n",
       "      <td>ForestNaturalAreas</td>\n",
       "    </tr>\n",
       "    <tr>\n",
       "      <th>4015</th>\n",
       "      <td>47.464372</td>\n",
       "      <td>10.852922</td>\n",
       "      <td>AgriculturalArea</td>\n",
       "    </tr>\n",
       "    <tr>\n",
       "      <th>4016</th>\n",
       "      <td>42.322929</td>\n",
       "      <td>-15.896878</td>\n",
       "      <td>AgriculturalArea</td>\n",
       "    </tr>\n",
       "    <tr>\n",
       "      <th>4017</th>\n",
       "      <td>64.970540</td>\n",
       "      <td>-3.510271</td>\n",
       "      <td>Water</td>\n",
       "    </tr>\n",
       "  </tbody>\n",
       "</table>\n",
       "<p>40461 rows × 3 columns</p>\n",
       "</div>"
      ],
      "text/plain": [
       "            lat        lon           landcover\n",
       "0     40.582904 -22.166310  ForestNaturalAreas\n",
       "1     57.591202  -5.168274    AgriculturalArea\n",
       "2     70.850927  -9.175052  ForestNaturalAreas\n",
       "3     37.519676  32.485142    AgriculturalArea\n",
       "4     50.582377  -7.032158  ArtificialSurfaces\n",
       "...         ...        ...                 ...\n",
       "4013  45.359292  19.185816               Water\n",
       "4014  59.992077  16.333949  ForestNaturalAreas\n",
       "4015  47.464372  10.852922    AgriculturalArea\n",
       "4016  42.322929 -15.896878    AgriculturalArea\n",
       "4017  64.970540  -3.510271               Water\n",
       "\n",
       "[40461 rows x 3 columns]"
      ]
     },
     "execution_count": 2,
     "metadata": {},
     "output_type": "execute_result"
    }
   ],
   "source": [
    "# Compiling CSV sample data to one dataframe\n",
    "all_csv = glob.glob(\"./data/*.csv\")\n",
    "df_csv = pd.concat((pd.read_csv(csv) for csv in all_csv))\n",
    "df_csv"
   ]
  },
  {
   "cell_type": "code",
   "execution_count": 3,
   "id": "b07148d3-8a8e-42e0-8d4c-cd757d8b891a",
   "metadata": {},
   "outputs": [
    {
     "data": {
      "text/plain": [
       "(3.31497114423, 50.803721015, 7.09205325687, 53.5104033474)"
      ]
     },
     "execution_count": 3,
     "metadata": {},
     "output_type": "execute_result"
    }
   ],
   "source": [
    "# Selecting country's bounding box\n",
    "bbox = country_bounding_boxes['NL'][1]\n",
    "\n",
    "# Extracting min & max longitude and latitude from the bounding box\n",
    "min_lon = bbox[0]\n",
    "min_lat = bbox[1]\n",
    "max_lon = bbox[2]\n",
    "max_lat = bbox[3]\n",
    "\n",
    "bbox"
   ]
  },
  {
   "cell_type": "code",
   "execution_count": 4,
   "id": "510404b0-a7f7-4703-89c8-d1aac10d037a",
   "metadata": {},
   "outputs": [
    {
     "data": {
      "text/html": [
       "<div>\n",
       "<style scoped>\n",
       "    .dataframe tbody tr th:only-of-type {\n",
       "        vertical-align: middle;\n",
       "    }\n",
       "\n",
       "    .dataframe tbody tr th {\n",
       "        vertical-align: top;\n",
       "    }\n",
       "\n",
       "    .dataframe thead th {\n",
       "        text-align: right;\n",
       "    }\n",
       "</style>\n",
       "<table border=\"1\" class=\"dataframe\">\n",
       "  <thead>\n",
       "    <tr style=\"text-align: right;\">\n",
       "      <th></th>\n",
       "      <th>lat</th>\n",
       "      <th>lon</th>\n",
       "      <th>landcover</th>\n",
       "    </tr>\n",
       "  </thead>\n",
       "  <tbody>\n",
       "    <tr>\n",
       "      <th>80</th>\n",
       "      <td>53.013246</td>\n",
       "      <td>3.497340</td>\n",
       "      <td>AgriculturalArea</td>\n",
       "    </tr>\n",
       "    <tr>\n",
       "      <th>107</th>\n",
       "      <td>51.780871</td>\n",
       "      <td>6.460150</td>\n",
       "      <td>ForestNaturalAreas</td>\n",
       "    </tr>\n",
       "    <tr>\n",
       "      <th>179</th>\n",
       "      <td>51.691521</td>\n",
       "      <td>4.668549</td>\n",
       "      <td>ForestNaturalAreas</td>\n",
       "    </tr>\n",
       "    <tr>\n",
       "      <th>415</th>\n",
       "      <td>51.876503</td>\n",
       "      <td>4.155372</td>\n",
       "      <td>AgriculturalArea</td>\n",
       "    </tr>\n",
       "    <tr>\n",
       "      <th>417</th>\n",
       "      <td>51.104469</td>\n",
       "      <td>5.315605</td>\n",
       "      <td>AgriculturalArea</td>\n",
       "    </tr>\n",
       "    <tr>\n",
       "      <th>...</th>\n",
       "      <td>...</td>\n",
       "      <td>...</td>\n",
       "      <td>...</td>\n",
       "    </tr>\n",
       "    <tr>\n",
       "      <th>3264</th>\n",
       "      <td>51.938681</td>\n",
       "      <td>3.349975</td>\n",
       "      <td>AgriculturalArea</td>\n",
       "    </tr>\n",
       "    <tr>\n",
       "      <th>3570</th>\n",
       "      <td>51.943123</td>\n",
       "      <td>4.140162</td>\n",
       "      <td>AgriculturalArea</td>\n",
       "    </tr>\n",
       "    <tr>\n",
       "      <th>3662</th>\n",
       "      <td>52.461430</td>\n",
       "      <td>5.418577</td>\n",
       "      <td>AgriculturalArea</td>\n",
       "    </tr>\n",
       "    <tr>\n",
       "      <th>3857</th>\n",
       "      <td>51.163087</td>\n",
       "      <td>4.179379</td>\n",
       "      <td>ForestNaturalAreas</td>\n",
       "    </tr>\n",
       "    <tr>\n",
       "      <th>3901</th>\n",
       "      <td>51.543199</td>\n",
       "      <td>3.486403</td>\n",
       "      <td>AgriculturalArea</td>\n",
       "    </tr>\n",
       "  </tbody>\n",
       "</table>\n",
       "<p>420 rows × 3 columns</p>\n",
       "</div>"
      ],
      "text/plain": [
       "            lat       lon           landcover\n",
       "80    53.013246  3.497340    AgriculturalArea\n",
       "107   51.780871  6.460150  ForestNaturalAreas\n",
       "179   51.691521  4.668549  ForestNaturalAreas\n",
       "415   51.876503  4.155372    AgriculturalArea\n",
       "417   51.104469  5.315605    AgriculturalArea\n",
       "...         ...       ...                 ...\n",
       "3264  51.938681  3.349975    AgriculturalArea\n",
       "3570  51.943123  4.140162    AgriculturalArea\n",
       "3662  52.461430  5.418577    AgriculturalArea\n",
       "3857  51.163087  4.179379  ForestNaturalAreas\n",
       "3901  51.543199  3.486403    AgriculturalArea\n",
       "\n",
       "[420 rows x 3 columns]"
      ]
     },
     "execution_count": 4,
     "metadata": {},
     "output_type": "execute_result"
    }
   ],
   "source": [
    "# Creating mask for filtering CSV data\n",
    "mask = (\n",
    "    (df_csv['lat'] >= min_lat) & (df_csv['lat'] <= max_lat) &\n",
    "    (df_csv['lon'] >= min_lon) & (df_csv['lon'] <= max_lon))\n",
    "\n",
    "\n",
    "df = df_csv[mask]\n",
    "df"
   ]
  },
  {
   "cell_type": "markdown",
   "id": "12428aa8-41c6-4373-8ac9-779930c225e3",
   "metadata": {},
   "source": [
    "## Converting to Geopandas"
   ]
  },
  {
   "cell_type": "code",
   "execution_count": 5,
   "id": "b228a6e3-080b-4950-963e-61bafcfe4fd4",
   "metadata": {},
   "outputs": [
    {
     "data": {
      "text/plain": [
       "<GeometryArray>\n",
       "[<shapely.geometry.point.Point object at 0xfffed88c4160>,\n",
       " <shapely.geometry.point.Point object at 0xfffed88c4490>,\n",
       " <shapely.geometry.point.Point object at 0xfffed88c4160>,\n",
       " <shapely.geometry.point.Point object at 0xfffed88c4490>,\n",
       " <shapely.geometry.point.Point object at 0xfffed88c4160>,\n",
       " <shapely.geometry.point.Point object at 0xfffed88c4490>,\n",
       " <shapely.geometry.point.Point object at 0xfffed88c4160>,\n",
       " <shapely.geometry.point.Point object at 0xfffed88c4490>,\n",
       " <shapely.geometry.point.Point object at 0xfffed88c4160>,\n",
       " <shapely.geometry.point.Point object at 0xfffed88c4490>,\n",
       " ...\n",
       " <shapely.geometry.point.Point object at 0xfffed88c44c0>,\n",
       " <shapely.geometry.point.Point object at 0xfffed88c4310>,\n",
       " <shapely.geometry.point.Point object at 0xfffed88c44c0>,\n",
       " <shapely.geometry.point.Point object at 0xfffed88c4310>,\n",
       " <shapely.geometry.point.Point object at 0xfffed88c44c0>,\n",
       " <shapely.geometry.point.Point object at 0xfffed88c4310>,\n",
       " <shapely.geometry.point.Point object at 0xfffed88c44c0>,\n",
       " <shapely.geometry.point.Point object at 0xfffed88c4310>,\n",
       " <shapely.geometry.point.Point object at 0xfffed88c44c0>,\n",
       " <shapely.geometry.point.Point object at 0xfffed88c4310>]\n",
       "Length: 420, dtype: geometry"
      ]
     },
     "execution_count": 5,
     "metadata": {},
     "output_type": "execute_result"
    }
   ],
   "source": [
    "geometry = gpd.points_from_xy(df['lon'], df['lat'])\n",
    "geometry"
   ]
  },
  {
   "cell_type": "code",
   "execution_count": 6,
   "id": "2278710c-17f8-4bdd-aa2d-34c68cd2107f",
   "metadata": {},
   "outputs": [
    {
     "data": {
      "text/html": [
       "<div>\n",
       "<style scoped>\n",
       "    .dataframe tbody tr th:only-of-type {\n",
       "        vertical-align: middle;\n",
       "    }\n",
       "\n",
       "    .dataframe tbody tr th {\n",
       "        vertical-align: top;\n",
       "    }\n",
       "\n",
       "    .dataframe thead th {\n",
       "        text-align: right;\n",
       "    }\n",
       "</style>\n",
       "<table border=\"1\" class=\"dataframe\">\n",
       "  <thead>\n",
       "    <tr style=\"text-align: right;\">\n",
       "      <th></th>\n",
       "      <th>lat</th>\n",
       "      <th>lon</th>\n",
       "      <th>landcover</th>\n",
       "      <th>geometry</th>\n",
       "    </tr>\n",
       "  </thead>\n",
       "  <tbody>\n",
       "    <tr>\n",
       "      <th>80</th>\n",
       "      <td>53.013246</td>\n",
       "      <td>3.497340</td>\n",
       "      <td>AgriculturalArea</td>\n",
       "      <td>POINT (3.49734 53.01325)</td>\n",
       "    </tr>\n",
       "    <tr>\n",
       "      <th>107</th>\n",
       "      <td>51.780871</td>\n",
       "      <td>6.460150</td>\n",
       "      <td>ForestNaturalAreas</td>\n",
       "      <td>POINT (6.46015 51.78087)</td>\n",
       "    </tr>\n",
       "    <tr>\n",
       "      <th>179</th>\n",
       "      <td>51.691521</td>\n",
       "      <td>4.668549</td>\n",
       "      <td>ForestNaturalAreas</td>\n",
       "      <td>POINT (4.66855 51.69152)</td>\n",
       "    </tr>\n",
       "    <tr>\n",
       "      <th>415</th>\n",
       "      <td>51.876503</td>\n",
       "      <td>4.155372</td>\n",
       "      <td>AgriculturalArea</td>\n",
       "      <td>POINT (4.15537 51.87650)</td>\n",
       "    </tr>\n",
       "    <tr>\n",
       "      <th>417</th>\n",
       "      <td>51.104469</td>\n",
       "      <td>5.315605</td>\n",
       "      <td>AgriculturalArea</td>\n",
       "      <td>POINT (5.31560 51.10447)</td>\n",
       "    </tr>\n",
       "    <tr>\n",
       "      <th>...</th>\n",
       "      <td>...</td>\n",
       "      <td>...</td>\n",
       "      <td>...</td>\n",
       "      <td>...</td>\n",
       "    </tr>\n",
       "    <tr>\n",
       "      <th>3264</th>\n",
       "      <td>51.938681</td>\n",
       "      <td>3.349975</td>\n",
       "      <td>AgriculturalArea</td>\n",
       "      <td>POINT (3.34997 51.93868)</td>\n",
       "    </tr>\n",
       "    <tr>\n",
       "      <th>3570</th>\n",
       "      <td>51.943123</td>\n",
       "      <td>4.140162</td>\n",
       "      <td>AgriculturalArea</td>\n",
       "      <td>POINT (4.14016 51.94312)</td>\n",
       "    </tr>\n",
       "    <tr>\n",
       "      <th>3662</th>\n",
       "      <td>52.461430</td>\n",
       "      <td>5.418577</td>\n",
       "      <td>AgriculturalArea</td>\n",
       "      <td>POINT (5.41858 52.46143)</td>\n",
       "    </tr>\n",
       "    <tr>\n",
       "      <th>3857</th>\n",
       "      <td>51.163087</td>\n",
       "      <td>4.179379</td>\n",
       "      <td>ForestNaturalAreas</td>\n",
       "      <td>POINT (4.17938 51.16309)</td>\n",
       "    </tr>\n",
       "    <tr>\n",
       "      <th>3901</th>\n",
       "      <td>51.543199</td>\n",
       "      <td>3.486403</td>\n",
       "      <td>AgriculturalArea</td>\n",
       "      <td>POINT (3.48640 51.54320)</td>\n",
       "    </tr>\n",
       "  </tbody>\n",
       "</table>\n",
       "<p>420 rows × 4 columns</p>\n",
       "</div>"
      ],
      "text/plain": [
       "            lat       lon           landcover                  geometry\n",
       "80    53.013246  3.497340    AgriculturalArea  POINT (3.49734 53.01325)\n",
       "107   51.780871  6.460150  ForestNaturalAreas  POINT (6.46015 51.78087)\n",
       "179   51.691521  4.668549  ForestNaturalAreas  POINT (4.66855 51.69152)\n",
       "415   51.876503  4.155372    AgriculturalArea  POINT (4.15537 51.87650)\n",
       "417   51.104469  5.315605    AgriculturalArea  POINT (5.31560 51.10447)\n",
       "...         ...       ...                 ...                       ...\n",
       "3264  51.938681  3.349975    AgriculturalArea  POINT (3.34997 51.93868)\n",
       "3570  51.943123  4.140162    AgriculturalArea  POINT (4.14016 51.94312)\n",
       "3662  52.461430  5.418577    AgriculturalArea  POINT (5.41858 52.46143)\n",
       "3857  51.163087  4.179379  ForestNaturalAreas  POINT (4.17938 51.16309)\n",
       "3901  51.543199  3.486403    AgriculturalArea  POINT (3.48640 51.54320)\n",
       "\n",
       "[420 rows x 4 columns]"
      ]
     },
     "execution_count": 6,
     "metadata": {},
     "output_type": "execute_result"
    }
   ],
   "source": [
    "gdf = gpd.GeoDataFrame(df, geometry=geometry, crs = \"EPSG:4326\")\n",
    "gdf"
   ]
  },
  {
   "cell_type": "markdown",
   "id": "f462b34c-bee6-4ca5-a08b-464a27933d8b",
   "metadata": {},
   "source": [
    "## GEE - Authentication"
   ]
  },
  {
   "cell_type": "code",
   "execution_count": 7,
   "id": "a3213741-c590-4ce9-bff5-78b552cde309",
   "metadata": {},
   "outputs": [],
   "source": [
    "# Trigger the authentication flow.\n",
    "# ee.Authenticate()"
   ]
  },
  {
   "cell_type": "code",
   "execution_count": 8,
   "id": "d2c8c0e2-5469-462c-bf38-b8d02f96e9a1",
   "metadata": {},
   "outputs": [
    {
     "name": "stdout",
     "output_type": "stream",
     "text": [
      "Google Earth Engine has initialized successfully!\n"
     ]
    }
   ],
   "source": [
    "try:\n",
    "    # Initialize the library.\n",
    "    ee.Initialize()\n",
    "    print('Google Earth Engine has initialized successfully!')\n",
    "except ee.EEException as e:\n",
    "    print('Google Earth Engine has failed to initialize!')\n",
    "except:\n",
    "    print(\"Unexpected error:\", sys.exc_info()[0])\n",
    "    raise"
   ]
  },
  {
   "cell_type": "markdown",
   "id": "9b910805-cf35-4b5a-84f5-8a4107beb432",
   "metadata": {},
   "source": [
    "## GEE - Image Collection"
   ]
  },
  {
   "cell_type": "code",
   "execution_count": 9,
   "id": "010a1e94-ea57-4a7c-8cf4-af35d4494590",
   "metadata": {},
   "outputs": [
    {
     "data": {
      "text/plain": [
       "100"
      ]
     },
     "execution_count": 9,
     "metadata": {},
     "output_type": "execute_result"
    }
   ],
   "source": [
    "# Define the region and time frame\n",
    "roi = ee.Geometry.Rectangle([min_lon, min_lat, max_lon, max_lat])\n",
    "startDate = '2023-06-21'\n",
    "endDate = '2023-09-23'\n",
    "\n",
    "# Load the Landsat collection\n",
    "image = ee.ImageCollection('COPERNICUS/S2_SR').filterBounds(roi).filterDate(startDate, endDate).filterMetadata('CLOUDY_PIXEL_PERCENTAGE', 'less_than', 10)\n",
    "\n",
    "# Show the number of images\n",
    "imageCount = image.size().getInfo()\n",
    "imageCount"
   ]
  },
  {
   "cell_type": "code",
   "execution_count": 10,
   "id": "01657e61-8b45-4757-ab7f-21d0c8e76d1b",
   "metadata": {},
   "outputs": [],
   "source": [
    "# Calculate the median image for the entire collection\n",
    "medianImage = image.reduce(ee.Reducer.median())"
   ]
  },
  {
   "cell_type": "code",
   "execution_count": 11,
   "id": "6c3caad7-36a4-457d-b659-a3087cffae7e",
   "metadata": {},
   "outputs": [],
   "source": [
    "# Display the median image\n",
    "Map = geemap.Map()\n",
    "Map.centerObject(roi, 12)\n",
    "Map.addLayer(medianImage, {\n",
    "    'bands': ['B4_median', 'B3_median', 'B2_median'],\n",
    "    'min': 0,\n",
    "    'max': 3000,\n",
    "    'gamma': 1.4\n",
    "}, 'Median Image')\n"
   ]
  },
  {
   "cell_type": "code",
   "execution_count": 12,
   "id": "e2b1639a-22dd-42e5-8a10-1de58dbc09d0",
   "metadata": {},
   "outputs": [],
   "source": [
    "mapbbox = ([min_lon, min_lat], [max_lon, min_lat], [max_lon, max_lat], [min_lon, max_lat])\n",
    "region = ee.Geometry.Polygon(mapbbox)"
   ]
  },
  {
   "cell_type": "code",
   "execution_count": 13,
   "id": "6cea0a7f-f25e-4fc6-844c-5272267119f4",
   "metadata": {},
   "outputs": [],
   "source": [
    "# Convert GeoDataFrame to an Earth Engine FeatureCollection\n",
    "ee_collection = geemap.geopandas_to_ee(gdf)\n",
    "\n",
    "# Add the FeatureCollection to the map\n",
    "Map.addLayer(ee_collection, {'color' : 'red'}, 'GeoDataFrame Points')\n",
    "\n",
    "# Center the map on the GeoDataFrame\n",
    "Map.centerObject(ee_collection)\n",
    "\n",
    "# Display the map\n",
    "# Map"
   ]
  },
  {
   "cell_type": "markdown",
   "id": "a9fc63be-5a5b-4c51-81cf-964f4617ca7c",
   "metadata": {},
   "source": [
    "# K-Means"
   ]
  },
  {
   "cell_type": "code",
   "execution_count": 16,
   "id": "176b3a22-41d0-420d-9689-68a80e59177d",
   "metadata": {},
   "outputs": [
    {
     "data": {
      "text/plain": [
       "array(['AgriculturalArea', 'ForestNaturalAreas', 'ArtificialSurfaces',\n",
       "       'Water', 'Wetlands'], dtype=object)"
      ]
     },
     "execution_count": 16,
     "metadata": {},
     "output_type": "execute_result"
    }
   ],
   "source": [
    "df['landcover'].unique()"
   ]
  },
  {
   "cell_type": "code",
   "execution_count": 17,
   "id": "95f240ff-8874-4369-8d66-b7763fb1d3c0",
   "metadata": {},
   "outputs": [],
   "source": [
    "training = medianImage.sample(**{\n",
    "    'region': region,\n",
    "    'scale': 30,\n",
    "    'numPixels': 500,\n",
    "    'seed': 0,\n",
    "    'geometries': True,  # Set this to False to ignore geometries\n",
    "    'tileScale': 4\n",
    "})\n",
    "\n",
    "Map.addLayer(training, {'color':'blue'}, 'training')\n",
    "# Map"
   ]
  },
  {
   "cell_type": "code",
   "execution_count": 18,
   "id": "e49099f1-f5a2-495d-82e3-f629cc08f012",
   "metadata": {},
   "outputs": [],
   "source": [
    "n_clusters = 5\n",
    "clusterer = ee.Clusterer.wekaKMeans(n_clusters).train(training)\n",
    "\n",
    "# Cluster the input using the trained clusterer.\n",
    "result = medianImage.cluster(clusterer)"
   ]
  },
  {
   "cell_type": "code",
   "execution_count": 19,
   "id": "3d6726be-0533-40fd-8d48-792e750809e3",
   "metadata": {},
   "outputs": [
    {
     "data": {
      "application/vnd.jupyter.widget-view+json": {
       "model_id": "3b9da206b6494b0f9ef42537092224db",
       "version_major": 2,
       "version_minor": 0
      },
      "text/plain": [
       "Map(center=[52.16047501732177, 5.20397322430675], controls=(WidgetControl(options=['position', 'transparent_bg…"
      ]
     },
     "metadata": {},
     "output_type": "display_data"
    }
   ],
   "source": [
    "Map.addLayer(result.randomVisualizer(), {}, 'clusters')\n",
    "Map"
   ]
  },
  {
   "cell_type": "code",
   "execution_count": null,
   "id": "5d374225-b862-4702-a08e-4d3087509b9f",
   "metadata": {},
   "outputs": [],
   "source": []
  },
  {
   "cell_type": "code",
   "execution_count": 21,
   "id": "2533286f-b4ba-4d2b-917b-3baa0bc57f0e",
   "metadata": {},
   "outputs": [],
   "source": [
    "cluster_samples = result.sampleRegions(**{\n",
    "    'collection':ee_collection, \n",
    "    'properties':['landcover'], \n",
    "    'scale':30,\n",
    "    'tileScale':4\n",
    "    })"
   ]
  },
  {
   "cell_type": "code",
   "execution_count": 24,
   "id": "075ba2b0-47d9-42ee-bd41-794951317ebe",
   "metadata": {},
   "outputs": [
    {
     "data": {
      "text/html": [
       "<div>\n",
       "<style scoped>\n",
       "    .dataframe tbody tr th:only-of-type {\n",
       "        vertical-align: middle;\n",
       "    }\n",
       "\n",
       "    .dataframe tbody tr th {\n",
       "        vertical-align: top;\n",
       "    }\n",
       "\n",
       "    .dataframe thead th {\n",
       "        text-align: right;\n",
       "    }\n",
       "</style>\n",
       "<table border=\"1\" class=\"dataframe\">\n",
       "  <thead>\n",
       "    <tr style=\"text-align: right;\">\n",
       "      <th></th>\n",
       "      <th>geometry</th>\n",
       "      <th>cluster</th>\n",
       "      <th>landcover</th>\n",
       "    </tr>\n",
       "  </thead>\n",
       "  <tbody>\n",
       "    <tr>\n",
       "      <th>0</th>\n",
       "      <td>None</td>\n",
       "      <td>3</td>\n",
       "      <td>AgriculturalArea</td>\n",
       "    </tr>\n",
       "    <tr>\n",
       "      <th>1</th>\n",
       "      <td>None</td>\n",
       "      <td>0</td>\n",
       "      <td>ForestNaturalAreas</td>\n",
       "    </tr>\n",
       "    <tr>\n",
       "      <th>2</th>\n",
       "      <td>None</td>\n",
       "      <td>4</td>\n",
       "      <td>ForestNaturalAreas</td>\n",
       "    </tr>\n",
       "    <tr>\n",
       "      <th>3</th>\n",
       "      <td>None</td>\n",
       "      <td>4</td>\n",
       "      <td>AgriculturalArea</td>\n",
       "    </tr>\n",
       "    <tr>\n",
       "      <th>4</th>\n",
       "      <td>None</td>\n",
       "      <td>0</td>\n",
       "      <td>AgriculturalArea</td>\n",
       "    </tr>\n",
       "    <tr>\n",
       "      <th>...</th>\n",
       "      <td>...</td>\n",
       "      <td>...</td>\n",
       "      <td>...</td>\n",
       "    </tr>\n",
       "    <tr>\n",
       "      <th>415</th>\n",
       "      <td>None</td>\n",
       "      <td>2</td>\n",
       "      <td>AgriculturalArea</td>\n",
       "    </tr>\n",
       "    <tr>\n",
       "      <th>416</th>\n",
       "      <td>None</td>\n",
       "      <td>1</td>\n",
       "      <td>AgriculturalArea</td>\n",
       "    </tr>\n",
       "    <tr>\n",
       "      <th>417</th>\n",
       "      <td>None</td>\n",
       "      <td>4</td>\n",
       "      <td>AgriculturalArea</td>\n",
       "    </tr>\n",
       "    <tr>\n",
       "      <th>418</th>\n",
       "      <td>None</td>\n",
       "      <td>0</td>\n",
       "      <td>ForestNaturalAreas</td>\n",
       "    </tr>\n",
       "    <tr>\n",
       "      <th>419</th>\n",
       "      <td>None</td>\n",
       "      <td>4</td>\n",
       "      <td>AgriculturalArea</td>\n",
       "    </tr>\n",
       "  </tbody>\n",
       "</table>\n",
       "<p>420 rows × 3 columns</p>\n",
       "</div>"
      ],
      "text/plain": [
       "    geometry  cluster           landcover\n",
       "0       None        3    AgriculturalArea\n",
       "1       None        0  ForestNaturalAreas\n",
       "2       None        4  ForestNaturalAreas\n",
       "3       None        4    AgriculturalArea\n",
       "4       None        0    AgriculturalArea\n",
       "..       ...      ...                 ...\n",
       "415     None        2    AgriculturalArea\n",
       "416     None        1    AgriculturalArea\n",
       "417     None        4    AgriculturalArea\n",
       "418     None        0  ForestNaturalAreas\n",
       "419     None        4    AgriculturalArea\n",
       "\n",
       "[420 rows x 3 columns]"
      ]
     },
     "execution_count": 24,
     "metadata": {},
     "output_type": "execute_result"
    }
   ],
   "source": [
    "cluster_samples_pd = geemap.ee_to_geopandas(cluster_samples)\n",
    "cluster_samples_pd"
   ]
  },
  {
   "cell_type": "code",
   "execution_count": null,
   "id": "5719e91d-3b5b-4689-9038-a7045d7d8b41",
   "metadata": {},
   "outputs": [],
   "source": [
    "# Group the data by 'landcover' and select the 'sample' column\n",
    "landcover_groups = cluster_samples_pd.groupby('landcover')['cluster']\n",
    "\n",
    "# Create a subplot with one histogram per landcover category\n",
    "fig, axes = plt.subplots(nrows=len(landcover_groups), figsize=(8, 6))\n",
    "\n",
    "# Iterate through landcover categories and plot histograms\n",
    "for i, (landcover, group) in enumerate(landcover_groups):\n",
    "    ax = axes[i]\n",
    "    ax.hist(group, bins=20)  # You can adjust the number of bins as needed\n",
    "    ax.set_title(f'Landcover: {landcover}')\n",
    "    ax.set_xlabel('Sample Value')\n",
    "    ax.set_ylabel('Frequency')\n",
    "\n",
    "# Adjust layout for better visualization\n",
    "plt.tight_layout()\n",
    "\n",
    "# Show the histogram plot\n",
    "plt.show()\n"
   ]
  },
  {
   "cell_type": "code",
   "execution_count": null,
   "id": "1319589b-4f70-4053-b57a-673daa997090",
   "metadata": {},
   "outputs": [],
   "source": []
  },
  {
   "cell_type": "code",
   "execution_count": null,
   "id": "2cb6c8b4-3700-451d-81b5-a57a52dba8f4",
   "metadata": {},
   "outputs": [],
   "source": []
  },
  {
   "cell_type": "code",
   "execution_count": null,
   "id": "067ca480-210c-4b57-8853-c20cab83525e",
   "metadata": {},
   "outputs": [],
   "source": []
  },
  {
   "cell_type": "code",
   "execution_count": null,
   "id": "c1092671-09f6-49c7-83e7-4c3b9fc7b499",
   "metadata": {},
   "outputs": [],
   "source": []
  },
  {
   "cell_type": "code",
   "execution_count": null,
   "id": "84c08b30-f9f1-4330-89e8-0f2a474632b5",
   "metadata": {},
   "outputs": [],
   "source": [
    "# Convert the clustered image to a GeoDataFrame\n",
    "clusteredImage = ee.Image(result)"
   ]
  },
  {
   "cell_type": "code",
   "execution_count": null,
   "id": "7b472b98-87a7-452e-a695-cb4e320823bd",
   "metadata": {},
   "outputs": [],
   "source": [
    "confusion_matrix = clusteredImage.reduceRegions(\n",
    "    collection=ee_collection,\n",
    "    reducer=ee.Reducer.frequencyHistogram(),\n",
    "    scale=30,\n",
    "    crs=\"EPSG:4326\"\n",
    ")"
   ]
  },
  {
   "cell_type": "code",
   "execution_count": null,
   "id": "056de080-dfb0-4812-bfa7-49a75e79edee",
   "metadata": {},
   "outputs": [],
   "source": [
    "# Extract 'landcover' values from the FeatureCollection\n",
    "landcover_values = ee_collection.aggregate_array('landcover')\n",
    "\n",
    "# Extract cluster labels from the clustered image\n",
    "cluster_labels = clusteredImage.select(['cluster'])"
   ]
  },
  {
   "cell_type": "code",
   "execution_count": null,
   "id": "6416df14-e936-46df-9cd3-87f843c77370",
   "metadata": {},
   "outputs": [],
   "source": [
    "# Compute the confusion matrix\n",
    "confusion_matrix = cluster_labels.reduceRegion(\n",
    "    reducer=ee.Reducer.frequencyHistogram(),\n",
    "    geometry=region,\n",
    "    scale=30\n",
    ")"
   ]
  },
  {
   "cell_type": "code",
   "execution_count": null,
   "id": "0e56e9e1-7d6c-402a-a564-528e055655da",
   "metadata": {},
   "outputs": [],
   "source": [
    "# Convert the confusion matrix to a dictionary\n",
    "confusion_dict = confusion_matrix.getInfo()\n",
    "\n",
    "# Visualize the confusion matrix\n",
    "print(\"Confusion Matrix:\")\n",
    "print(confusion_dict)"
   ]
  },
  {
   "cell_type": "code",
   "execution_count": null,
   "id": "488dfdd9-d3cd-4b15-ba15-337a8567281b",
   "metadata": {},
   "outputs": [],
   "source": []
  },
  {
   "cell_type": "code",
   "execution_count": null,
   "id": "7a49e5ab-06fc-4a3f-944d-3a0ee2a3931f",
   "metadata": {},
   "outputs": [],
   "source": []
  },
  {
   "cell_type": "code",
   "execution_count": null,
   "id": "45fd006a-e2e1-43c6-954b-a3eade3ced4a",
   "metadata": {},
   "outputs": [],
   "source": []
  },
  {
   "cell_type": "code",
   "execution_count": null,
   "id": "d7b5647f-20a6-4da0-9f6a-e794e81b6ed8",
   "metadata": {},
   "outputs": [],
   "source": []
  },
  {
   "cell_type": "code",
   "execution_count": null,
   "id": "ad8e6b65-c78c-46b8-bd45-2553473b972a",
   "metadata": {},
   "outputs": [],
   "source": []
  },
  {
   "cell_type": "code",
   "execution_count": null,
   "id": "8bd39265-4c65-4a02-a766-6bec5369305b",
   "metadata": {},
   "outputs": [],
   "source": []
  },
  {
   "cell_type": "code",
   "execution_count": null,
   "id": "b292bdf2-a66c-45b2-9053-1e72b602925f",
   "metadata": {},
   "outputs": [],
   "source": []
  },
  {
   "cell_type": "code",
   "execution_count": null,
   "id": "23ed687c-1798-4f21-a8b3-e86248e4a53f",
   "metadata": {},
   "outputs": [],
   "source": []
  },
  {
   "cell_type": "markdown",
   "id": "e0733707-5a76-4090-a21c-391902483e25",
   "metadata": {
    "jp-MarkdownHeadingCollapsed": true,
    "tags": []
   },
   "source": [
    "## Histogram - 5 Clusters"
   ]
  },
  {
   "cell_type": "code",
   "execution_count": null,
   "id": "9f7336d1-55e2-4221-b799-38d81556e822",
   "metadata": {},
   "outputs": [],
   "source": [
    "clusteredImage = ee.Image(result)"
   ]
  },
  {
   "cell_type": "code",
   "execution_count": null,
   "id": "799cfb2a-510f-49e6-9635-416ca700c7c6",
   "metadata": {},
   "outputs": [],
   "source": [
    "histograms = clusteredImage.reduceRegion(\n",
    "    reducer=ee.Reducer.histogram(),\n",
    "    geometry=region,  # Define the region of interest\n",
    "    scale=30,  # Choose an appropriate scale\n",
    "    bestEffort=True,\n",
    "    maxPixels=1e5  # Adjust the maximum number of pixels as needed\n",
    ")"
   ]
  },
  {
   "cell_type": "code",
   "execution_count": null,
   "id": "caca7865-c1f9-40b5-b4c3-3ade2fb1fad0",
   "metadata": {},
   "outputs": [],
   "source": [
    "histograms.getInfo()"
   ]
  },
  {
   "cell_type": "code",
   "execution_count": null,
   "id": "404ade8c-b043-4251-8b29-3a7803b35162",
   "metadata": {},
   "outputs": [],
   "source": [
    "# Extract the histogram data\n",
    "hist_data = histograms.get('cluster')\n",
    "hist_info = hist_data.getInfo()\n",
    "\n",
    "hist_bucket = hist_info.get('bucketMeans')\n",
    "hist_values = hist_info.get('histogram')"
   ]
  },
  {
   "cell_type": "code",
   "execution_count": null,
   "id": "4de56728-fd2c-48b1-b759-04777a2e494e",
   "metadata": {},
   "outputs": [],
   "source": [
    "hist_bucket"
   ]
  },
  {
   "cell_type": "code",
   "execution_count": null,
   "id": "b7ba0407-6ee8-46d0-a72d-30dbc5d6cb4d",
   "metadata": {},
   "outputs": [],
   "source": [
    "hist_values"
   ]
  },
  {
   "cell_type": "code",
   "execution_count": null,
   "id": "6a9677d2-2e2f-47e2-824f-4b298a4478cf",
   "metadata": {},
   "outputs": [],
   "source": [
    "plt.bar(hist_bucket, hist_values, width=0.5, align='center')\n",
    "plt.xlabel('Value')\n",
    "plt.ylabel('Frequency')\n",
    "plt.title('Histogram')\n",
    "plt.show()"
   ]
  },
  {
   "cell_type": "code",
   "execution_count": null,
   "id": "8523396e-69dd-41cd-afd5-41c81690e516",
   "metadata": {},
   "outputs": [],
   "source": []
  },
  {
   "cell_type": "code",
   "execution_count": null,
   "id": "11c45e65-de74-4de5-af94-dfa49c4cf0c0",
   "metadata": {},
   "outputs": [],
   "source": []
  },
  {
   "cell_type": "code",
   "execution_count": null,
   "id": "10ebfc4a-3731-445b-b892-3618eee74f50",
   "metadata": {},
   "outputs": [],
   "source": []
  },
  {
   "cell_type": "code",
   "execution_count": null,
   "id": "e2b41021-c4e6-44e0-a934-01b065782908",
   "metadata": {},
   "outputs": [],
   "source": []
  }
 ],
 "metadata": {
  "kernelspec": {
   "display_name": "Python",
   "language": "python",
   "name": "python3"
  },
  "language_info": {
   "codemirror_mode": {
    "name": "ipython",
    "version": 3
   },
   "file_extension": ".py",
   "mimetype": "text/x-python",
   "name": "python",
   "nbconvert_exporter": "python",
   "pygments_lexer": "ipython3",
   "version": "3.8.10"
  }
 },
 "nbformat": 4,
 "nbformat_minor": 5
}
